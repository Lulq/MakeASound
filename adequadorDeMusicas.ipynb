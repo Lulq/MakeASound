{
 "cells": [
  {
   "cell_type": "code",
   "execution_count": 17,
   "source": [
    "def adequar(notasABC):\r\n",
    "    traducao_notas = {'do':'C','do#':'c','re':'D','re#':'d','mi':'E','fa':'F','fa#':'f','sol':'G','sol#':'g','la':'A','la#':'a','si':'B','p':''}\r\n",
    "    entrada = notasABC.split(\" \")\r\n",
    "    saida = []\r\n",
    "    for nota in entrada:\r\n",
    "        saida.append(traducao_notas[nota])\r\n",
    "    separador = \"-\"\r\n",
    "    saida = separador.join(saida)\r\n",
    "    return saida\r\n",
    "\r\n",
    "def gerador():\r\n",
    "    \r\n",
    "parabens = \"re re mi re sol fa# p re re mi re la sol re re re re si sol fa# mi do do si sol la sol sol\"\r\n"
   ],
   "outputs": [],
   "metadata": {}
  },
  {
   "cell_type": "code",
   "execution_count": 18,
   "source": [
    "parafim = adequar(parabens)\r\n",
    "\r\n",
    "print(parafim)"
   ],
   "outputs": [
    {
     "output_type": "stream",
     "name": "stdout",
     "text": [
      "D-D-E-D-G-f-D-D-E-D-A-G-D-D-D-D-B-G-f-E-C-C-B-G-A-G-G\n"
     ]
    }
   ],
   "metadata": {}
  }
 ],
 "metadata": {
  "orig_nbformat": 4,
  "language_info": {
   "name": "python",
   "version": "3.8.5",
   "mimetype": "text/x-python",
   "codemirror_mode": {
    "name": "ipython",
    "version": 3
   },
   "pygments_lexer": "ipython3",
   "nbconvert_exporter": "python",
   "file_extension": ".py"
  },
  "kernelspec": {
   "name": "python3",
   "display_name": "Python 3.8.5 64-bit ('base': conda)"
  },
  "interpreter": {
   "hash": "459be99b14d4c74c742065d3dbd62c4af953980eab1e63c036f401e452f848e4"
  }
 },
 "nbformat": 4,
 "nbformat_minor": 2
}