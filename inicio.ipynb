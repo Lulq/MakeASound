{
 "metadata": {
  "language_info": {
   "codemirror_mode": {
    "name": "ipython",
    "version": 3
   },
   "file_extension": ".py",
   "mimetype": "text/x-python",
   "name": "python",
   "nbconvert_exporter": "python",
   "pygments_lexer": "ipython3",
   "version": "3.8.5"
  },
  "orig_nbformat": 4,
  "kernelspec": {
   "name": "python3",
   "display_name": "Python 3.8.5 64-bit ('base': conda)"
  },
  "interpreter": {
   "hash": "459be99b14d4c74c742065d3dbd62c4af953980eab1e63c036f401e452f848e4"
  }
 },
 "nbformat": 4,
 "nbformat_minor": 2,
 "cells": [
  {
   "cell_type": "code",
   "execution_count": 24,
   "source": [
    "import numpy as np\r\n",
    "\r\n",
    "samplerate = 44100 #Frequecy in Hz\r\n",
    "\r\n",
    "def get_wave(freq, duration=0.5):\r\n",
    "    '''\r\n",
    "    Function takes the \"frequecy\" and \"time_duration\" for a wave \r\n",
    "    as the input and returns a \"numpy array\" of values at all points \r\n",
    "    in time\r\n",
    "    '''\r\n",
    "    \r\n",
    "    amplitude = 4096\r\n",
    "    t = np.linspace(0, duration, int(samplerate * duration))\r\n",
    "    wave = amplitude * np.sin(2 * np.pi * freq * t)\r\n",
    "    \r\n",
    "    return wave\r\n",
    "\r\n",
    "# To get a 1 second long wave of frequency 440Hz\r\n",
    "a_wave = get_wave(440, 1)\r\n",
    "\r\n",
    "#wave features\r\n",
    "print(len(a_wave)) # 44100\r\n",
    "print(np.max(a_wave)) # 4096\r\n",
    "print(np.min(a_wave)) # -4096"
   ],
   "outputs": [
    {
     "output_type": "stream",
     "name": "stdout",
     "text": [
      "44100\n",
      "4095.9996855891045\n",
      "-4095.999685589104\n"
     ]
    }
   ],
   "metadata": {}
  },
  {
   "cell_type": "code",
   "execution_count": 25,
   "source": [
    "from pprint import pprint\r\n",
    "\r\n",
    "def get_piano_notes():\r\n",
    "    '''\r\n",
    "    Returns a dict object for all the piano \r\n",
    "    note's frequencies\r\n",
    "    '''\r\n",
    "    # White keys are in Uppercase and black keys (sharps) are in lowercase\r\n",
    "    octave = ['C', 'c', 'D', 'd', 'E', 'F', 'f', 'G', 'g', 'A', 'a', 'B'] \r\n",
    "    base_freq = 261.63 #Frequency of Note C4\r\n",
    "    \r\n",
    "    note_freqs = {octave[i]: base_freq * pow(2,(i/12)) for i in range(len(octave))}        \r\n",
    "    note_freqs[''] = 0.0 # silent note\r\n",
    "    \r\n",
    "    return note_freqs\r\n",
    "  \r\n",
    "# To get the piano note's frequencies\r\n",
    "note_freqs = get_piano_notes()\r\n",
    "pprint(note_freqs)\r\n",
    "'''\r\n",
    "        {'': 0.0,\r\n",
    "        'A': 440.00745824565865,\r\n",
    "        'B': 493.8916728538229,\r\n",
    "        'C': 261.63,\r\n",
    "        'D': 293.66974569918125,\r\n",
    "        'E': 329.63314428399565,\r\n",
    "        'F': 349.2341510465061,\r\n",
    "        'G': 392.0020805232462,\r\n",
    "        'a': 466.1716632541139,\r\n",
    "        'c': 277.18732937722245,\r\n",
    "        'd': 311.1322574981619,\r\n",
    "        'f': 370.00069432367286,\r\n",
    "        'g': 415.31173722644}\r\n",
    "    '''"
   ],
   "outputs": [
    {
     "output_type": "stream",
     "name": "stdout",
     "text": [
      "{'': 0.0,\n",
      " 'A': 440.00745824565865,\n",
      " 'B': 493.89167285382297,\n",
      " 'C': 261.63,\n",
      " 'D': 293.66974569918125,\n",
      " 'E': 329.63314428399565,\n",
      " 'F': 349.2341510465061,\n",
      " 'G': 392.0020805232462,\n",
      " 'a': 466.1716632541139,\n",
      " 'c': 277.18732937722245,\n",
      " 'd': 311.1322574981619,\n",
      " 'f': 370.00069432367286,\n",
      " 'g': 415.31173722644}\n"
     ]
    },
    {
     "output_type": "execute_result",
     "data": {
      "text/plain": [
       "\"\\n        {'': 0.0,\\n        'A': 440.00745824565865,\\n        'B': 493.8916728538229,\\n        'C': 261.63,\\n        'D': 293.66974569918125,\\n        'E': 329.63314428399565,\\n        'F': 349.2341510465061,\\n        'G': 392.0020805232462,\\n        'a': 466.1716632541139,\\n        'c': 277.18732937722245,\\n        'd': 311.1322574981619,\\n        'f': 370.00069432367286,\\n        'g': 415.31173722644}\\n    \""
      ]
     },
     "metadata": {},
     "execution_count": 25
    }
   ],
   "metadata": {}
  },
  {
   "cell_type": "code",
   "execution_count": 38,
   "source": [
    "import numpy as np\r\n",
    "\r\n",
    "def get_song_data(music_notes):\r\n",
    "    '''\r\n",
    "    Function to concatenate all the waves (notes)\r\n",
    "    '''\r\n",
    "    note_freqs = get_piano_notes() # Function that we made earlier\r\n",
    "    song = [get_wave(note_freqs[note],duration=0.1) for note in music_notes.split('-')]\r\n",
    "    song = np.concatenate(song)\r\n",
    "    return song\r\n",
    "\r\n",
    "music_notes = 'C-c-D-d-E-F-f-G-g-A-a-B-a-A-g-G-f-F-E-d-D-c-C'\r\n",
    "#music_notes = 'G-G-E-C-B-A-G-F--A-A-F-C-B-A-G--G-G-C-C-C-D--C-B-A-A--G-B-A--F-D-C-C'\r\n",
    "#music_notes = 'C-C-G-G-A-A-G--F-F-E-E-D-D-C--G-G-F-F-E-E-D--G-G-F-F-E-E-D--C-C-G-G-A-A-G--F-F-E-E-D-D-C'\r\n",
    "data = get_song_data(music_notes)\r\n",
    "\r\n",
    "data = data * (16300/np.max(data)) # Adjusting the Amplitude (Optional)"
   ],
   "outputs": [],
   "metadata": {}
  },
  {
   "cell_type": "code",
   "execution_count": 39,
   "source": [
    "from scipy.io.wavfile import write\r\n",
    "write('cravo4.wav', samplerate, data.astype(np.int16))"
   ],
   "outputs": [],
   "metadata": {}
  },
  {
   "cell_type": "code",
   "execution_count": null,
   "source": [],
   "outputs": [],
   "metadata": {}
  },
  {
   "cell_type": "code",
   "execution_count": null,
   "source": [],
   "outputs": [],
   "metadata": {}
  }
 ]
}