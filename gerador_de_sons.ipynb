{
 "metadata": {
  "language_info": {
   "name": "python",
   "version": "3.8.5",
   "mimetype": "text/x-python",
   "codemirror_mode": {
    "name": "ipython",
    "version": 3
   },
   "pygments_lexer": "ipython3",
   "nbconvert_exporter": "python",
   "file_extension": ".py"
  },
  "orig_nbformat": 4,
  "kernelspec": {
   "name": "python3",
   "display_name": "Python 3.9.6 64-bit ('audio': conda)"
  },
  "interpreter": {
   "hash": "2b9963d7a214b9ff4ae5b4767a0efd8076628f3617341c19af10b9a776e4c50a"
  }
 },
 "nbformat": 4,
 "nbformat_minor": 2,
 "cells": [
  {
   "cell_type": "code",
   "execution_count": 10,
   "source": [
    "import numpy as np\r\n",
    "\r\n",
    "samplerate = 44100 #Frequecy in Hz\r\n",
    "\r\n",
    "def get_wave(freq, duration=0.5):\r\n",
    "    '''\r\n",
    "    Function takes the \"frequecy\" and \"time_duration\" for a wave \r\n",
    "    as the input and returns a \"numpy array\" of values at all points \r\n",
    "    in time\r\n",
    "    '''\r\n",
    "    \r\n",
    "    amplitude = 4096\r\n",
    "    t = np.linspace(0, duration, int(samplerate * duration))\r\n",
    "    wave = amplitude * np.sin(2 * np.pi * freq * t)\r\n",
    "    \r\n",
    "    return wave\r\n",
    "\r\n",
    "# To get a 1 second long wave of frequency 440Hz\r\n",
    "a_wave = get_wave(440, 1)\r\n",
    "\r\n",
    "#wave features\r\n",
    "print(len(a_wave)) # 44100\r\n",
    "print(np.max(a_wave)) # 4096\r\n",
    "print(np.min(a_wave)) # -4096"
   ],
   "outputs": [
    {
     "output_type": "stream",
     "name": "stdout",
     "text": [
      "44100\n",
      "4095.9996855891045\n",
      "-4095.999685589104\n"
     ]
    }
   ],
   "metadata": {}
  },
  {
   "cell_type": "code",
   "execution_count": 11,
   "source": [
    "from pprint import pprint\r\n",
    "\r\n",
    "def get_piano_notes():\r\n",
    "    '''\r\n",
    "    Returns a dict object for all the piano \r\n",
    "    note's frequencies\r\n",
    "    '''\r\n",
    "    # White keys are in Uppercase and black keys (sharps) are in lowercase\r\n",
    "    octave = ['C', 'c#', 'D', 'd#', 'E', 'F', 'f#', 'G', 'g#', 'A', 'a#', 'B','C5','c5#','D5','d5#','E5','F5','f5#','G5','g5#','A5','a5#','B5'] \r\n",
    "    base_freq = 261.63 #Frequency of Note C4\r\n",
    "    \r\n",
    "    note_freqs = {octave[i]: base_freq * pow(2,(i/12)) for i in range(len(octave))}        \r\n",
    "    note_freqs[''] = 0.0 # silent note\r\n",
    "    \r\n",
    "    return note_freqs\r\n",
    "  \r\n",
    "# To get the piano note's frequencies\r\n",
    "note_freqs = get_piano_notes()\r\n",
    "pprint(note_freqs)\r\n",
    "'''\r\n",
    "        {'': 0.0,\r\n",
    "        'A': 440.00745824565865,\r\n",
    "        'B': 493.8916728538229,\r\n",
    "        'C': 261.63,\r\n",
    "        'D': 293.66974569918125,\r\n",
    "        'E': 329.63314428399565,\r\n",
    "        'F': 349.2341510465061,\r\n",
    "        'G': 392.0020805232462,\r\n",
    "        'a#': 466.1716632541139,\r\n",
    "        'c#': 277.18732937722245,\r\n",
    "        'd#': 311.1322574981619,\r\n",
    "        'f#': 370.00069432367286,\r\n",
    "        'g#': 415.31173722644}\r\n",
    "    '''"
   ],
   "outputs": [
    {
     "output_type": "stream",
     "name": "stdout",
     "text": [
      "{'': 0.0,\n",
      " 'A': 440.00745824565865,\n",
      " 'B': 493.89167285382297,\n",
      " 'B5': 880.0149164913173,\n",
      " 'C': 261.63,\n",
      " 'C5': 523.26,\n",
      " 'D': 293.66974569918125,\n",
      " 'D5': 587.3394913983625,\n",
      " 'E': 329.63314428399565,\n",
      " 'E5': 659.2662885679913,\n",
      " 'F': 349.2341510465061,\n",
      " 'F5': 698.4683020930122,\n",
      " 'G': 392.0020805232462,\n",
      " 'G5': 784.0041610464924,\n",
      " 'a#': 466.1716632541139,\n",
      " 'c#': 277.18732937722245,\n",
      " 'c5#': 554.3746587544449,\n",
      " 'd#': 311.1322574981619,\n",
      " 'd5#': 622.2645149963238,\n",
      " 'f#': 370.00069432367286,\n",
      " 'f5#': 740.0013886473457,\n",
      " 'g#': 415.31173722644,\n",
      " 'g5#': 830.6234744528801}\n"
     ]
    },
    {
     "output_type": "execute_result",
     "data": {
      "text/plain": [
       "\"\\n        {'': 0.0,\\n        'A': 440.00745824565865,\\n        'B': 493.8916728538229,\\n        'C': 261.63,\\n        'D': 293.66974569918125,\\n        'E': 329.63314428399565,\\n        'F': 349.2341510465061,\\n        'G': 392.0020805232462,\\n        'a#': 466.1716632541139,\\n        'c#': 277.18732937722245,\\n        'd#': 311.1322574981619,\\n        'f#': 370.00069432367286,\\n        'g#': 415.31173722644}\\n    \""
      ]
     },
     "metadata": {},
     "execution_count": 11
    }
   ],
   "metadata": {}
  },
  {
   "cell_type": "code",
   "execution_count": 12,
   "source": [
    "import numpy as np\r\n",
    "\r\n",
    "def get_song_data(music_notes):\r\n",
    "    '''\r\n",
    "    Function to concatenate all the waves (notes)\r\n",
    "    '''\r\n",
    "    note_freqs = get_piano_notes() # Function that we made earlier\r\n",
    "    song = [get_wave(note_freqs[note],duration=5) for note in music_notes.split('-')]\r\n",
    "    song = np.concatenate(song)\r\n",
    "    return song\r\n",
    "\r\n",
    "#music_notes = 'C-c-D-d-E-F-f-G-g-A-a-B-a-A-g-G-f-F-E-d-D-c-C'\r\n",
    "#music_notes = 'G-G-E-C-B-A-G-F--A-A-F-C-B-A-G--G-G-C-C-C-D--C-B-A-A--G-B-A--F-D-C-C'\r\n",
    "#music_notes = 'C-C-G-G-A-A-G--F-F-E-E-D-D-C--G-G-F-F-E-E-D--G-G-F-F-E-E-D--C-C-G-G-A-A-G--F-F-E-E-D-D-C'\r\n",
    "#data = get_song_data(music_notes)\r\n",
    "\r\n",
    "#data = data * (16300/np.max(data)) # Adjusting the Amplitude (Optional)"
   ],
   "outputs": [],
   "metadata": {}
  },
  {
   "cell_type": "code",
   "execution_count": 17,
   "source": [
    "from scipy.io.wavfile import write\r\n",
    "# write('cravo4.wav', samplerate, data.astype(np.int16))\r\n",
    "\r\n",
    "octave = ['C', 'c#', 'D', 'd#', 'E', 'F', 'f#', 'G', 'g#', 'A', 'a#', 'B','C5','c5#','D5','d5#','E5','F5','f5#','G5','g5#','A5','a5#','B5'] "
   ],
   "outputs": [],
   "metadata": {}
  },
  {
   "cell_type": "code",
   "execution_count": 18,
   "source": [
    "def gerador(nota):\r\n",
    "    som = get_song_data(nota)\r\n",
    "    som = som * (16300/np.max(som))\r\n",
    "    write(f'{nota}.wav', samplerate, som.astype(np.int16))\r\n",
    "\r\n",
    "\r\n",
    "for nota in octave:\r\n",
    "    gerador(nota)\r\n",
    "\r\n",
    "\r\n"
   ],
   "outputs": [
    {
     "output_type": "error",
     "ename": "KeyError",
     "evalue": "'A5'",
     "traceback": [
      "\u001b[1;31m---------------------------------------------------------------------------\u001b[0m",
      "\u001b[1;31mKeyError\u001b[0m                                  Traceback (most recent call last)",
      "\u001b[1;32m<ipython-input-18-a1aa91d6c7ce>\u001b[0m in \u001b[0;36m<module>\u001b[1;34m\u001b[0m\n\u001b[0;32m      6\u001b[0m \u001b[1;33m\u001b[0m\u001b[0m\n\u001b[0;32m      7\u001b[0m \u001b[1;32mfor\u001b[0m \u001b[0mnota\u001b[0m \u001b[1;32min\u001b[0m \u001b[0moctave\u001b[0m\u001b[1;33m:\u001b[0m\u001b[1;33m\u001b[0m\u001b[1;33m\u001b[0m\u001b[0m\n\u001b[1;32m----> 8\u001b[1;33m     \u001b[0mgerador\u001b[0m\u001b[1;33m(\u001b[0m\u001b[0mnota\u001b[0m\u001b[1;33m)\u001b[0m\u001b[1;33m\u001b[0m\u001b[1;33m\u001b[0m\u001b[0m\n\u001b[0m\u001b[0;32m      9\u001b[0m \u001b[1;33m\u001b[0m\u001b[0m\n\u001b[0;32m     10\u001b[0m \u001b[1;33m\u001b[0m\u001b[0m\n",
      "\u001b[1;32m<ipython-input-18-a1aa91d6c7ce>\u001b[0m in \u001b[0;36mgerador\u001b[1;34m(nota)\u001b[0m\n\u001b[0;32m      1\u001b[0m \u001b[1;32mdef\u001b[0m \u001b[0mgerador\u001b[0m\u001b[1;33m(\u001b[0m\u001b[0mnota\u001b[0m\u001b[1;33m)\u001b[0m\u001b[1;33m:\u001b[0m\u001b[1;33m\u001b[0m\u001b[1;33m\u001b[0m\u001b[0m\n\u001b[1;32m----> 2\u001b[1;33m     \u001b[0msom\u001b[0m \u001b[1;33m=\u001b[0m \u001b[0mget_song_data\u001b[0m\u001b[1;33m(\u001b[0m\u001b[0mnota\u001b[0m\u001b[1;33m)\u001b[0m\u001b[1;33m\u001b[0m\u001b[1;33m\u001b[0m\u001b[0m\n\u001b[0m\u001b[0;32m      3\u001b[0m     \u001b[0msom\u001b[0m \u001b[1;33m=\u001b[0m \u001b[0msom\u001b[0m \u001b[1;33m*\u001b[0m \u001b[1;33m(\u001b[0m\u001b[1;36m16300\u001b[0m\u001b[1;33m/\u001b[0m\u001b[0mnp\u001b[0m\u001b[1;33m.\u001b[0m\u001b[0mmax\u001b[0m\u001b[1;33m(\u001b[0m\u001b[0msom\u001b[0m\u001b[1;33m)\u001b[0m\u001b[1;33m)\u001b[0m\u001b[1;33m\u001b[0m\u001b[1;33m\u001b[0m\u001b[0m\n\u001b[0;32m      4\u001b[0m     \u001b[0mwrite\u001b[0m\u001b[1;33m(\u001b[0m\u001b[1;34mf'{nota}.wav'\u001b[0m\u001b[1;33m,\u001b[0m \u001b[0msamplerate\u001b[0m\u001b[1;33m,\u001b[0m \u001b[0msom\u001b[0m\u001b[1;33m.\u001b[0m\u001b[0mastype\u001b[0m\u001b[1;33m(\u001b[0m\u001b[0mnp\u001b[0m\u001b[1;33m.\u001b[0m\u001b[0mint16\u001b[0m\u001b[1;33m)\u001b[0m\u001b[1;33m)\u001b[0m\u001b[1;33m\u001b[0m\u001b[1;33m\u001b[0m\u001b[0m\n\u001b[0;32m      5\u001b[0m \u001b[1;33m\u001b[0m\u001b[0m\n",
      "\u001b[1;32m<ipython-input-12-c9f8b9c049a3>\u001b[0m in \u001b[0;36mget_song_data\u001b[1;34m(music_notes)\u001b[0m\n\u001b[0;32m      6\u001b[0m     '''\n\u001b[0;32m      7\u001b[0m     \u001b[0mnote_freqs\u001b[0m \u001b[1;33m=\u001b[0m \u001b[0mget_piano_notes\u001b[0m\u001b[1;33m(\u001b[0m\u001b[1;33m)\u001b[0m \u001b[1;31m# Function that we made earlier\u001b[0m\u001b[1;33m\u001b[0m\u001b[1;33m\u001b[0m\u001b[0m\n\u001b[1;32m----> 8\u001b[1;33m     \u001b[0msong\u001b[0m \u001b[1;33m=\u001b[0m \u001b[1;33m[\u001b[0m\u001b[0mget_wave\u001b[0m\u001b[1;33m(\u001b[0m\u001b[0mnote_freqs\u001b[0m\u001b[1;33m[\u001b[0m\u001b[0mnote\u001b[0m\u001b[1;33m]\u001b[0m\u001b[1;33m,\u001b[0m\u001b[0mduration\u001b[0m\u001b[1;33m=\u001b[0m\u001b[1;36m5\u001b[0m\u001b[1;33m)\u001b[0m \u001b[1;32mfor\u001b[0m \u001b[0mnote\u001b[0m \u001b[1;32min\u001b[0m \u001b[0mmusic_notes\u001b[0m\u001b[1;33m.\u001b[0m\u001b[0msplit\u001b[0m\u001b[1;33m(\u001b[0m\u001b[1;34m'-'\u001b[0m\u001b[1;33m)\u001b[0m\u001b[1;33m]\u001b[0m\u001b[1;33m\u001b[0m\u001b[1;33m\u001b[0m\u001b[0m\n\u001b[0m\u001b[0;32m      9\u001b[0m     \u001b[0msong\u001b[0m \u001b[1;33m=\u001b[0m \u001b[0mnp\u001b[0m\u001b[1;33m.\u001b[0m\u001b[0mconcatenate\u001b[0m\u001b[1;33m(\u001b[0m\u001b[0msong\u001b[0m\u001b[1;33m)\u001b[0m\u001b[1;33m\u001b[0m\u001b[1;33m\u001b[0m\u001b[0m\n\u001b[0;32m     10\u001b[0m     \u001b[1;32mreturn\u001b[0m \u001b[0msong\u001b[0m\u001b[1;33m\u001b[0m\u001b[1;33m\u001b[0m\u001b[0m\n",
      "\u001b[1;32m<ipython-input-12-c9f8b9c049a3>\u001b[0m in \u001b[0;36m<listcomp>\u001b[1;34m(.0)\u001b[0m\n\u001b[0;32m      6\u001b[0m     '''\n\u001b[0;32m      7\u001b[0m     \u001b[0mnote_freqs\u001b[0m \u001b[1;33m=\u001b[0m \u001b[0mget_piano_notes\u001b[0m\u001b[1;33m(\u001b[0m\u001b[1;33m)\u001b[0m \u001b[1;31m# Function that we made earlier\u001b[0m\u001b[1;33m\u001b[0m\u001b[1;33m\u001b[0m\u001b[0m\n\u001b[1;32m----> 8\u001b[1;33m     \u001b[0msong\u001b[0m \u001b[1;33m=\u001b[0m \u001b[1;33m[\u001b[0m\u001b[0mget_wave\u001b[0m\u001b[1;33m(\u001b[0m\u001b[0mnote_freqs\u001b[0m\u001b[1;33m[\u001b[0m\u001b[0mnote\u001b[0m\u001b[1;33m]\u001b[0m\u001b[1;33m,\u001b[0m\u001b[0mduration\u001b[0m\u001b[1;33m=\u001b[0m\u001b[1;36m5\u001b[0m\u001b[1;33m)\u001b[0m \u001b[1;32mfor\u001b[0m \u001b[0mnote\u001b[0m \u001b[1;32min\u001b[0m \u001b[0mmusic_notes\u001b[0m\u001b[1;33m.\u001b[0m\u001b[0msplit\u001b[0m\u001b[1;33m(\u001b[0m\u001b[1;34m'-'\u001b[0m\u001b[1;33m)\u001b[0m\u001b[1;33m]\u001b[0m\u001b[1;33m\u001b[0m\u001b[1;33m\u001b[0m\u001b[0m\n\u001b[0m\u001b[0;32m      9\u001b[0m     \u001b[0msong\u001b[0m \u001b[1;33m=\u001b[0m \u001b[0mnp\u001b[0m\u001b[1;33m.\u001b[0m\u001b[0mconcatenate\u001b[0m\u001b[1;33m(\u001b[0m\u001b[0msong\u001b[0m\u001b[1;33m)\u001b[0m\u001b[1;33m\u001b[0m\u001b[1;33m\u001b[0m\u001b[0m\n\u001b[0;32m     10\u001b[0m     \u001b[1;32mreturn\u001b[0m \u001b[0msong\u001b[0m\u001b[1;33m\u001b[0m\u001b[1;33m\u001b[0m\u001b[0m\n",
      "\u001b[1;31mKeyError\u001b[0m: 'A5'"
     ]
    }
   ],
   "metadata": {}
  },
  {
   "cell_type": "code",
   "execution_count": null,
   "source": [],
   "outputs": [],
   "metadata": {}
  }
 ]
}